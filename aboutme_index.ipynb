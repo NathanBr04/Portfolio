{
  "cells": [
    {
      "cell_type": "raw",
      "metadata": {},
      "source": [
        "---\n",
        "title: \"Nathan Bresette\"\n",
        "image: images/nathan.jpg\n",
        "toc: false\n",
        "about:\n",
        "  template: trestles\n",
        "  image-shape: round\n",
        "  image-width: 20em\n",
        "---"
      ],
      "id": "b6fc38c7"
    },
    {
      "cell_type": "markdown",
      "metadata": {},
      "source": [
        "```{indenting}\n",
        "width: 4\n",
        "\n",
        "  I am a senior at Truman State University, majoring in Statistics with a concentration in Data Science and a minor in Mathematics. Passionate about uncovering insights from data, I am dedicated to leveraging statistical techniques and data analysis tools to solve real-world problems. With a strong foundation in mathematics and a keen interest in data science, I am enthusiastic about contributing to projects that drive innovation and make a positive impact.\n",
        "    \n",
        "  In my portfolio, you'll find a diverse range of projects, including analyses, visualizations, and applications that showcase my skills and experiences. From developing R packages to conducting consulting projects and participating in DataFest competitions, I've gained practical knowledge and hands-on experience in various aspects of data science. I invite you to explore my portfolio to learn more about my work and how I can contribute to your projects and initiatives.\n",
        "```"
      ],
      "id": "90b1217d"
    }
  ],
  "metadata": {
    "kernelspec": {
      "name": "python3",
      "language": "python",
      "display_name": "Python 3 (ipykernel)"
    }
  },
  "nbformat": 4,
  "nbformat_minor": 5
}